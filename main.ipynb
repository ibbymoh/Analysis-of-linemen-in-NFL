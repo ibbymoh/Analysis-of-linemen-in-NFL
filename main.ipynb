{
 "cells": [
  {
   "cell_type": "code",
   "execution_count": 14,
   "id": "2fdffc35",
   "metadata": {},
   "outputs": [],
   "source": [
    "import pandas as pd \n",
    "import numpy as np\n",
    "import seaborn as sns\n",
    "import plotly as plt\n",
    "import data "
   ]
  },
  {
   "cell_type": "code",
   "execution_count": 15,
   "id": "f39f0d9a",
   "metadata": {},
   "outputs": [],
   "source": [
    "#bringing the files in to the main document to allow analysis\n",
    "df_games = pd.read_csv(r'data/games.csv')\n",
    "df_pff = pd.read_csv(r'data/pffScoutingData.csv')\n",
    "df_players = pd.read_csv(r'data/players.csv') \n",
    "df_plays = pd.read_csv(r'data/plays.csv')\n",
    "df_week1 = pd.read_csv(r'data/week1.csv')\n",
    "df_week2 = pd.read_csv(r'data/week2.csv')\n",
    "df_week3 = pd.read_csv(r'data/week3.csv')\n",
    "df_week4 = pd.read_csv(r'data/week4.csv')\n",
    "df_week5 = pd.read_csv(r'data/week5.csv')\n",
    "df_week6 = pd.read_csv(r'data/week6.csv')\n",
    "df_week7 = pd.read_csv(r'data/week7.csv')\n",
    "df_week8 = pd.read_csv(r'data/week8.csv')\n"
   ]
  },
  {
   "cell_type": "code",
   "execution_count": 55,
   "id": "e7dd3f3d",
   "metadata": {},
   "outputs": [
    {
     "name": "stdout",
     "output_type": "stream",
     "text": [
      "SHOTGUN       5481\n",
      "EMPTY         1396\n",
      "SINGLEBACK    1189\n",
      "I_FORM         298\n",
      "PISTOL         154\n",
      "JUMBO           30\n",
      "WILDCAT          2\n",
      "Name: offenseFormation, dtype: int64\n"
     ]
    }
   ],
   "source": [
    "# offense_formation =  df_plays['offenseFormation'].value_counts()\n",
    "# print(offense_formation)"
   ]
  },
  {
   "cell_type": "code",
   "execution_count": 66,
   "id": "3b22c380",
   "metadata": {},
   "outputs": [
    {
     "name": "stdout",
     "output_type": "stream",
     "text": [
      "Zone     5588\n",
      "Man      2481\n",
      "Other     488\n",
      "Name: pff_passCoverageType, dtype: int64\n"
     ]
    }
   ],
   "source": [
    "#useful columns from the plays database\n",
    "offensive_personnel = df_plays[df_plays.columns[25]]\n",
    "defendersInTheBox = df_plays[df_plays.columns[26]]\n",
    "defensive_personnel = df_plays[df_plays.columns[27]]\n",
    "\n",
    "qb_dropback_types = df_plays[df_plays.columns[28]].value_counts()\n",
    "\n",
    "pff_playAction = df_plays['pff_playAction']\n",
    "pff_passCoverageTypes = df_plays['pff_passCoverageType']\n"
   ]
  },
  {
   "cell_type": "code",
   "execution_count": null,
   "id": "95124aaa",
   "metadata": {},
   "outputs": [],
   "source": [
    "#Useful colums from pff_scouting "
   ]
  }
 ],
 "metadata": {
  "kernelspec": {
   "display_name": "Python 3 (ipykernel)",
   "language": "python",
   "name": "python3"
  },
  "language_info": {
   "codemirror_mode": {
    "name": "ipython",
    "version": 3
   },
   "file_extension": ".py",
   "mimetype": "text/x-python",
   "name": "python",
   "nbconvert_exporter": "python",
   "pygments_lexer": "ipython3",
   "version": "3.9.13"
  }
 },
 "nbformat": 4,
 "nbformat_minor": 5
}
