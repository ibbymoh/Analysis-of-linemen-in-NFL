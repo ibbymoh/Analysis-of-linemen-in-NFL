{
 "cells": [
  {
   "cell_type": "code",
   "execution_count": 111,
   "id": "69b7f007",
   "metadata": {},
   "outputs": [],
   "source": [
    "import numpy as np \n",
    "import pandas as pd\n",
    "import seaborn as sns \n",
    "import matplotlib.pyplot as plt\n",
    "from sklearn.model_selection import train_test_split\n",
    "from sklearn import svm\n",
    "from sklearn.feature_selection import SequentialFeatureSelector\n",
    "from sklearn.model_selection import GridSearchCV\n",
    "from sklearn.metrics import accuracy_score\n",
    "from sklearn.naive_bayes import MultinomialNB\n",
    "from sklearn.cluster import KMeans\n",
    "from sklearn.preprocessing import StandardScaler\n",
    "from sklearn.linear_model import LogisticRegression\n",
    "from sklearn.ensemble import RandomForestClassifier\n",
    "from sklearn.ensemble import AdaBoostClassifier\n",
    "from sklearn.ensemble import BaggingClassifier\n",
    "from sklearn.neighbors import KNeighborsClassifier\n",
    "from sklearn.ensemble import StackingClassifier\n",
    "from sklearn.ensemble import GradientBoostingClassifier\n"
   ]
  },
  {
   "cell_type": "code",
   "execution_count": null,
   "id": "1ef94c4b",
   "metadata": {},
   "outputs": [],
   "source": []
  },
  {
   "cell_type": "code",
   "execution_count": 2,
   "id": "5f45d30e",
   "metadata": {},
   "outputs": [],
   "source": [
    "df_players = pd.read_csv(r'data/players.csv')\n",
    "df_week1 = pd.read_csv(r'data/week1.csv')\n",
    "df_week2 = pd.read_csv(r'data/week2.csv')\n",
    "df_week3 = pd.read_csv(r'data/week3.csv')\n",
    "df_week4 = pd.read_csv(r'data/week4.csv')\n",
    "df_week5 = pd.read_csv(r'data/week5.csv')\n",
    "df_week6 = pd.read_csv(r'data/week6.csv')\n",
    "df_week7 = pd.read_csv(r'data/week7.csv')\n",
    "df_week8 = pd.read_csv(r'data/week8.csv')"
   ]
  },
  {
   "cell_type": "code",
   "execution_count": 3,
   "id": "a67c0ad0",
   "metadata": {},
   "outputs": [],
   "source": [
    "columns = [\"nflId\",\"height\",\"weight\",\"officialPosition\"]"
   ]
  },
  {
   "cell_type": "code",
   "execution_count": null,
   "id": "a9dad91f",
   "metadata": {},
   "outputs": [],
   "source": []
  },
  {
   "cell_type": "code",
   "execution_count": 4,
   "id": "27f34f70",
   "metadata": {},
   "outputs": [],
   "source": [
    "column_weeks = ['gameId','playId','nflId','s','a']"
   ]
  },
  {
   "cell_type": "code",
   "execution_count": 5,
   "id": "4342a33e",
   "metadata": {},
   "outputs": [],
   "source": [
    "df_week1 = df_week1[column_weeks].dropna(axis=0)\n",
    "df_week2 = df_week2[column_weeks].dropna(axis=0)\n",
    "df_week3 = df_week3[column_weeks].dropna(axis=0)\n",
    "df_week4 = df_week4[column_weeks].dropna(axis=0)\n",
    "df_week5 = df_week5[column_weeks].dropna(axis=0)\n",
    "df_week6 = df_week6[column_weeks].dropna(axis=0)\n",
    "df_week7 = df_week7[column_weeks].dropna(axis=0)\n",
    "df_week8 = df_week8[column_weeks].dropna(axis=0)\n",
    "weeks_list = [df_week1,df_week2,df_week3,df_week4,df_week5,df_week6,df_week7,df_week8]"
   ]
  },
  {
   "cell_type": "code",
   "execution_count": 6,
   "id": "f93b1147",
   "metadata": {},
   "outputs": [],
   "source": [
    "joined_weeks_list = pd.concat(weeks_list,axis=0)"
   ]
  },
  {
   "cell_type": "code",
   "execution_count": 7,
   "id": "273b472c",
   "metadata": {},
   "outputs": [],
   "source": [
    "mean_speed = joined_weeks_list.groupby(['nflId']).mean().reset_index()[['nflId','s']]\n",
    "mean_acceleration = joined_weeks_list.groupby(['nflId']).mean().reset_index()[['nflId','a']]\n"
   ]
  },
  {
   "cell_type": "code",
   "execution_count": 8,
   "id": "7f18c99e",
   "metadata": {},
   "outputs": [],
   "source": [
    "df1 = df_players.merge(mean_acceleration,on='nflId')\n",
    "df = df1.merge(mean_speed,left_on='nflId',right_on='nflId')\n",
    "df = df.rename(columns={'a':'a_avg','s':'s_avg'})"
   ]
  },
  {
   "cell_type": "code",
   "execution_count": 9,
   "id": "22d11186",
   "metadata": {},
   "outputs": [
    {
     "name": "stderr",
     "output_type": "stream",
     "text": [
      "C:\\Users\\User\\AppData\\Local\\Temp\\ipykernel_10416\\2211777729.py:3: SettingWithCopyWarning: \n",
      "A value is trying to be set on a copy of a slice from a DataFrame\n",
      "\n",
      "See the caveats in the documentation: https://pandas.pydata.org/pandas-docs/stable/user_guide/indexing.html#returning-a-view-versus-a-copy\n",
      "  df['height'][i] = int(df['height'][i][0])*0.3048 + int(df['height'][i][2])*0.3048/10\n"
     ]
    }
   ],
   "source": [
    "df = df[['height','weight','officialPosition','a_avg','s_avg']]\n",
    "for i in range(len(df)):\n",
    "    df['height'][i] = int(df['height'][i][0])*0.3048 + int(df['height'][i][2])*0.3048/10"
   ]
  },
  {
   "cell_type": "code",
   "execution_count": 61,
   "id": "b195fdf6",
   "metadata": {},
   "outputs": [],
   "source": [
    "y = df['officialPosition']\n",
    "x = df.drop('officialPosition',axis=1)\n",
    "x_train,x_test,y_train,y_test = train_test_split(x,y,test_size=0.2)"
   ]
  },
  {
   "cell_type": "code",
   "execution_count": null,
   "id": "3063eb91",
   "metadata": {},
   "outputs": [],
   "source": [
    "#Support Vector machine"
   ]
  },
  {
   "cell_type": "code",
   "execution_count": 80,
   "id": "84876736",
   "metadata": {},
   "outputs": [
    {
     "data": {
      "text/plain": [
       "SVC(C=100)"
      ]
     },
     "execution_count": 80,
     "metadata": {},
     "output_type": "execute_result"
    }
   ],
   "source": [
    "clf = svm.SVC(C= 100)\n",
    "clf.fit(x_train,y_train)"
   ]
  },
  {
   "cell_type": "code",
   "execution_count": 79,
   "id": "12fd56f3",
   "metadata": {},
   "outputs": [
    {
     "name": "stdout",
     "output_type": "stream",
     "text": [
      "0.3898809523809524\n"
     ]
    }
   ],
   "source": [
    "y_pred = clf.predict(x_test)\n",
    "# print(\"Accuracy:\", accuracy_score(y_test,y_pred))\n",
    "print(clf.score(x_test,y_test))\n"
   ]
  },
  {
   "cell_type": "code",
   "execution_count": null,
   "id": "986481af",
   "metadata": {},
   "outputs": [],
   "source": [
    "parameters = {\n",
    "    'C':np.logspace(-2,1,4),\n",
    "    'kernel':['poly','linear','rbf','sigmoid']    \n",
    "}\n",
    "\n",
    "clf_1 = svm.SVC()\n"
   ]
  },
  {
   "cell_type": "code",
   "execution_count": null,
   "id": "7fda7d7d",
   "metadata": {},
   "outputs": [],
   "source": [
    "gs = GridSearchCV(estimator = clf_1, param_grid=parameters)"
   ]
  },
  {
   "cell_type": "code",
   "execution_count": null,
   "id": "cb43f009",
   "metadata": {},
   "outputs": [],
   "source": [
    "gs.fit(x_train,y_train)"
   ]
  },
  {
   "cell_type": "code",
   "execution_count": null,
   "id": "20fc2dc1",
   "metadata": {},
   "outputs": [],
   "source": [
    "print(gs.best_estimator_)\n",
    "print(gs.best_score_)\n",
    "print(gs.best_params_)"
   ]
  },
  {
   "cell_type": "code",
   "execution_count": null,
   "id": "12d546cc",
   "metadata": {},
   "outputs": [],
   "source": [
    "#Naive Bayes algorithim"
   ]
  },
  {
   "cell_type": "code",
   "execution_count": 60,
   "id": "f425470e",
   "metadata": {},
   "outputs": [],
   "source": [
    "x_train_b, x_test_b, y_train_b, y_test_b = train_test_split(x, y, test_size=0.5, random_state=42)\n"
   ]
  },
  {
   "cell_type": "code",
   "execution_count": 15,
   "id": "2ccb0a68",
   "metadata": {},
   "outputs": [],
   "source": [
    "mnb = MultinomialNB()\n",
    "mnb.fit(x_train_b, y_train_b)\n",
    "y_pred = mnb.predict(x_test_b)"
   ]
  },
  {
   "cell_type": "code",
   "execution_count": 86,
   "id": "75ecdcdd",
   "metadata": {},
   "outputs": [
    {
     "data": {
      "text/plain": [
       "0.32976190476190476"
      ]
     },
     "execution_count": 86,
     "metadata": {},
     "output_type": "execute_result"
    }
   ],
   "source": [
    "mnb.score(x_test_b,y_test_b)"
   ]
  },
  {
   "cell_type": "code",
   "execution_count": null,
   "id": "92f5c120",
   "metadata": {},
   "outputs": [],
   "source": [
    "#Logistic Regression"
   ]
  },
  {
   "cell_type": "code",
   "execution_count": 17,
   "id": "47abc14c",
   "metadata": {},
   "outputs": [],
   "source": [
    "x_train_lg , x_test_lg, y_train_lg, y_test_lg = train_test_split(x, y, test_size=0.3, random_state=42)"
   ]
  },
  {
   "cell_type": "code",
   "execution_count": null,
   "id": "8bb0415e",
   "metadata": {},
   "outputs": [],
   "source": [
    "parameters = {\n",
    "    'C':np.logspace(0,1,50),\n",
    "    'penalty':['l2'],\n",
    "    'solver':['newton-cg','newton-cholesky','sag','liblinear']\n",
    "    \n",
    "    \n",
    "}"
   ]
  },
  {
   "cell_type": "code",
   "execution_count": 18,
   "id": "a17accda",
   "metadata": {},
   "outputs": [
    {
     "name": "stderr",
     "output_type": "stream",
     "text": [
      "C:\\Users\\User\\anaconda3\\lib\\site-packages\\sklearn\\linear_model\\_logistic.py:814: ConvergenceWarning: lbfgs failed to converge (status=1):\n",
      "STOP: TOTAL NO. of ITERATIONS REACHED LIMIT.\n",
      "\n",
      "Increase the number of iterations (max_iter) or scale the data as shown in:\n",
      "    https://scikit-learn.org/stable/modules/preprocessing.html\n",
      "Please also refer to the documentation for alternative solver options:\n",
      "    https://scikit-learn.org/stable/modules/linear_model.html#logistic-regression\n",
      "  n_iter_i = _check_optimize_result(\n"
     ]
    },
    {
     "data": {
      "text/plain": [
       "LogisticRegression()"
      ]
     },
     "execution_count": 18,
     "metadata": {},
     "output_type": "execute_result"
    }
   ],
   "source": [
    "lr = LogisticRegression()\n",
    "#params found from the gridsearch below\n",
    "lr.fit(x_train_lg,y_train_lg)\n"
   ]
  },
  {
   "cell_type": "raw",
   "id": "3da2125a",
   "metadata": {},
   "source": []
  },
  {
   "cell_type": "code",
   "execution_count": 20,
   "id": "c375a1ff",
   "metadata": {},
   "outputs": [
    {
     "data": {
      "text/plain": [
       "0.44642857142857145"
      ]
     },
     "execution_count": 20,
     "metadata": {},
     "output_type": "execute_result"
    }
   ],
   "source": [
    "LogisticRegression(C=7, max_iter=1000, penalty='l1', solver='liblinear')\n",
    "lr.score(x_test_lg,y_test_lg)"
   ]
  },
  {
   "cell_type": "code",
   "execution_count": null,
   "id": "e7fca567",
   "metadata": {},
   "outputs": [],
   "source": [
    "gs = GridSearchCV(estimator = lr,param_grid=parameters)"
   ]
  },
  {
   "cell_type": "code",
   "execution_count": null,
   "id": "fad09271",
   "metadata": {},
   "outputs": [],
   "source": [
    "gs.fit(x_train_lg,y_train_lg)"
   ]
  },
  {
   "cell_type": "code",
   "execution_count": null,
   "id": "8f1958ec",
   "metadata": {},
   "outputs": [],
   "source": []
  },
  {
   "cell_type": "code",
   "execution_count": null,
   "id": "80c5769c",
   "metadata": {},
   "outputs": [],
   "source": [
    "print(gs.best_estimitor_)"
   ]
  },
  {
   "cell_type": "code",
   "execution_count": 67,
   "id": "c9f12984",
   "metadata": {},
   "outputs": [
    {
     "data": {
      "text/plain": [
       "0.6398809523809523"
      ]
     },
     "execution_count": 67,
     "metadata": {},
     "output_type": "execute_result"
    }
   ],
   "source": [
    "lr_best = LogisticRegression(penalty='l1',solver='liblinear', C= 7,max_iter = 1000)\n",
    "lr_best.fit(x_train,y_train)\n",
    "lr_best.score(x_test,y_test)"
   ]
  },
  {
   "cell_type": "code",
   "execution_count": null,
   "id": "23feff7d",
   "metadata": {},
   "outputs": [],
   "source": [
    "#random forest classifier"
   ]
  },
  {
   "cell_type": "code",
   "execution_count": null,
   "id": "2c9e44ff",
   "metadata": {},
   "outputs": [],
   "source": [
    "rf = RandomForestClassifier()\n",
    "params_rf = {\n",
    "    'n_estimators': [50, 100, 200,300]\n",
    "}\n",
    "rf_gs = GridSearchCV(rf, params_rf, cv=5)\n",
    "rf_gs.fit(x_train, y_train)"
   ]
  },
  {
   "cell_type": "code",
   "execution_count": null,
   "id": "e613f5c8",
   "metadata": {},
   "outputs": [],
   "source": [
    "print(rf_gs.score(x_test,y_test))\n",
    "print(rf_gs.best_params_)\n",
    "print(rf_gs.best_score_)"
   ]
  },
  {
   "cell_type": "code",
   "execution_count": 66,
   "id": "d2bb595a",
   "metadata": {},
   "outputs": [
    {
     "data": {
      "text/plain": [
       "0.7083333333333334"
      ]
     },
     "execution_count": 66,
     "metadata": {},
     "output_type": "execute_result"
    }
   ],
   "source": [
    "rf_best = RandomForestClassifier(n_estimators=100,)\n",
    "rf_best.fit(x_train,y_train)\n",
    "rf_best.score(x_test,y_test)"
   ]
  },
  {
   "cell_type": "code",
   "execution_count": null,
   "id": "7bee7971",
   "metadata": {},
   "outputs": [],
   "source": []
  },
  {
   "cell_type": "code",
   "execution_count": 83,
   "id": "213159a9",
   "metadata": {},
   "outputs": [],
   "source": []
  },
  {
   "cell_type": "code",
   "execution_count": null,
   "id": "16b264b1",
   "metadata": {},
   "outputs": [],
   "source": [
    "\"\"\"\n",
    "Ensemble methods: \n",
    "\n",
    "Naive bayes and logistic regression are both weak models so i am going to apply boosting algorithims to them both \n",
    "then i will apply an ensemble bagging method with the base_estimator as the default decision tree classifier. After that \n",
    "i will stack all of these models together. \n",
    "\n",
    "\n",
    "\"\"\"\n"
   ]
  },
  {
   "cell_type": "code",
   "execution_count": 110,
   "id": "58ffea80",
   "metadata": {},
   "outputs": [
    {
     "data": {
      "text/plain": [
       "0.11094564408041697"
      ]
     },
     "execution_count": 110,
     "metadata": {},
     "output_type": "execute_result"
    }
   ],
   "source": [
    "#Boosting ]"
   ]
  },
  {
   "cell_type": "code",
   "execution_count": null,
   "id": "2f55fbaa",
   "metadata": {},
   "outputs": [],
   "source": [
    "bayes_ada_1 = AdaBoostClassifier(base_estimator = mnb,algorithm='SAMME.R')\n",
    "bayes_ada_1.fit(x_train,y_train)\n",
    "bayes_ada_1.score(x_train,y_train)"
   ]
  },
  {
   "cell_type": "code",
   "execution_count": 113,
   "id": "043efc8a",
   "metadata": {},
   "outputs": [
    {
     "data": {
      "text/plain": [
       "0.7083333333333334"
      ]
     },
     "execution_count": 113,
     "metadata": {},
     "output_type": "execute_result"
    }
   ],
   "source": [
    "gbc = GradientBoostingClassifier()\n",
    "gbc.fit(x_train,y_train)\n",
    "gbc.score(x_test,y_test)"
   ]
  },
  {
   "cell_type": "code",
   "execution_count": 108,
   "id": "17c0d5c8",
   "metadata": {},
   "outputs": [
    {
     "data": {
      "text/plain": [
       "0.37202380952380953"
      ]
     },
     "execution_count": 108,
     "metadata": {},
     "output_type": "execute_result"
    }
   ],
   "source": [
    "\n",
    "bag_class_1 = BaggingClassifier(mnb)\n",
    "bag_class_1.fit(x_train,y_train)\n",
    "bag_class_1.score(x_test,y_test)"
   ]
  },
  {
   "cell_type": "code",
   "execution_count": 91,
   "id": "978436ca",
   "metadata": {},
   "outputs": [
    {
     "data": {
      "text/plain": [
       "0.11904761904761904"
      ]
     },
     "execution_count": 91,
     "metadata": {},
     "output_type": "execute_result"
    }
   ],
   "source": []
  },
  {
   "cell_type": "code",
   "execution_count": 38,
   "id": "58ab2b3b",
   "metadata": {},
   "outputs": [],
   "source": [
    "#Bagging"
   ]
  },
  {
   "cell_type": "code",
   "execution_count": 78,
   "id": "c9569cbb",
   "metadata": {},
   "outputs": [
    {
     "data": {
      "text/plain": [
       "0.6815476190476191"
      ]
     },
     "execution_count": 78,
     "metadata": {},
     "output_type": "execute_result"
    }
   ],
   "source": [
    "bag_class = BaggingClassifier()\n",
    "bag_class.fit(x_train,y_train)\n",
    "bag_class.score(x_test,y_test)"
   ]
  },
  {
   "cell_type": "code",
   "execution_count": null,
   "id": "39b29424",
   "metadata": {},
   "outputs": [],
   "source": [
    "#Stacking"
   ]
  },
  {
   "cell_type": "code",
   "execution_count": 114,
   "id": "c53e634f",
   "metadata": {},
   "outputs": [],
   "source": [
    "estimators  = [('bg',bag_class),('rf',rf_best),('lr',lr_best),('gbc',gbc)]"
   ]
  },
  {
   "cell_type": "code",
   "execution_count": 115,
   "id": "ee11b7e7",
   "metadata": {},
   "outputs": [],
   "source": [
    "stacked = StackingClassifier(estimators)\n",
    "x_train_final ,x_test_final,y_train_final,y_test_final = train_test_split(x,y,test_size = 0.3)"
   ]
  },
  {
   "cell_type": "code",
   "execution_count": 116,
   "id": "c1f6ecb4",
   "metadata": {},
   "outputs": [
    {
     "name": "stderr",
     "output_type": "stream",
     "text": [
      "C:\\Users\\User\\anaconda3\\lib\\site-packages\\sklearn\\model_selection\\_split.py:676: UserWarning: The least populated class in y has only 1 members, which is less than n_splits=5.\n",
      "  warnings.warn(\n",
      "C:\\Users\\User\\anaconda3\\lib\\site-packages\\sklearn\\model_selection\\_validation.py:1092: RuntimeWarning: Number of classes in training fold (18) does not match total number of classes (19). Results may not be appropriate for your use case. To fix this, use a cross-validation technique resulting in properly stratified folds\n",
      "  warnings.warn(\n",
      "C:\\Users\\User\\anaconda3\\lib\\site-packages\\sklearn\\model_selection\\_split.py:676: UserWarning: The least populated class in y has only 1 members, which is less than n_splits=5.\n",
      "  warnings.warn(\n",
      "C:\\Users\\User\\anaconda3\\lib\\site-packages\\sklearn\\model_selection\\_validation.py:1092: RuntimeWarning: Number of classes in training fold (18) does not match total number of classes (19). Results may not be appropriate for your use case. To fix this, use a cross-validation technique resulting in properly stratified folds\n",
      "  warnings.warn(\n",
      "C:\\Users\\User\\anaconda3\\lib\\site-packages\\sklearn\\model_selection\\_split.py:676: UserWarning: The least populated class in y has only 1 members, which is less than n_splits=5.\n",
      "  warnings.warn(\n",
      "C:\\Users\\User\\anaconda3\\lib\\site-packages\\sklearn\\model_selection\\_validation.py:1092: RuntimeWarning: Number of classes in training fold (18) does not match total number of classes (19). Results may not be appropriate for your use case. To fix this, use a cross-validation technique resulting in properly stratified folds\n",
      "  warnings.warn(\n",
      "C:\\Users\\User\\anaconda3\\lib\\site-packages\\sklearn\\model_selection\\_split.py:676: UserWarning: The least populated class in y has only 1 members, which is less than n_splits=5.\n",
      "  warnings.warn(\n",
      "C:\\Users\\User\\anaconda3\\lib\\site-packages\\sklearn\\model_selection\\_validation.py:1092: RuntimeWarning: Number of classes in training fold (18) does not match total number of classes (19). Results may not be appropriate for your use case. To fix this, use a cross-validation technique resulting in properly stratified folds\n",
      "  warnings.warn(\n"
     ]
    },
    {
     "data": {
      "text/plain": [
       "StackingClassifier(estimators=[('bg', BaggingClassifier()),\n",
       "                               ('rf', RandomForestClassifier()),\n",
       "                               ('lr',\n",
       "                                LogisticRegression(C=7, max_iter=1000,\n",
       "                                                   penalty='l1',\n",
       "                                                   solver='liblinear')),\n",
       "                               ('gbc', GradientBoostingClassifier())])"
      ]
     },
     "execution_count": 116,
     "metadata": {},
     "output_type": "execute_result"
    }
   ],
   "source": [
    "stacked.fit(x_train_final,y_train_final)"
   ]
  },
  {
   "cell_type": "code",
   "execution_count": 117,
   "id": "73bfa738",
   "metadata": {},
   "outputs": [
    {
     "data": {
      "text/plain": [
       "0.6805555555555556"
      ]
     },
     "execution_count": 117,
     "metadata": {},
     "output_type": "execute_result"
    }
   ],
   "source": [
    "stacked.score(x_test_final,y_test_final)\n",
    "#stacked ensemble method across several models is less accurate than inidividual models such as \n",
    "#gradientboosting and randomforest"
   ]
  },
  {
   "cell_type": "code",
   "execution_count": null,
   "id": "48a88e00",
   "metadata": {},
   "outputs": [],
   "source": []
  }
 ],
 "metadata": {
  "kernelspec": {
   "display_name": "Python 3 (ipykernel)",
   "language": "python",
   "name": "python3"
  },
  "language_info": {
   "codemirror_mode": {
    "name": "ipython",
    "version": 3
   },
   "file_extension": ".py",
   "mimetype": "text/x-python",
   "name": "python",
   "nbconvert_exporter": "python",
   "pygments_lexer": "ipython3",
   "version": "3.9.13"
  }
 },
 "nbformat": 4,
 "nbformat_minor": 5
}
